{
 "cells": [
  {
   "cell_type": "markdown",
   "metadata": {},
   "source": [
    "# proxymod - scenarios"
   ]
  },
  {
   "cell_type": "markdown",
   "metadata": {},
   "source": [
    "## Summary\n",
    "This notebook is meant to describe potential model coupling scenarios that a user may need to test whether or not the functionality of a proposed messaging service can accomodate project needs.  We will use three real model names to represent their potentail functionality and place these experiments in context of what may actually be tested."
   ]
  },
  {
   "cell_type": "markdown",
   "metadata": {},
   "source": [
    "The following are the models proxymod will pretend to be:\n",
    "\n",
    "| Model | Brief Description | How the model interacts with others |\n",
    "| --- | --- | --- |\n",
    "| ***Global Change Assessment Model (GCAM)*** | An integrated human-Earth systems model that provides multi-sector outputs that can be extracted from a single file | GCAM can receive feedback from CERF based on the feasiblity of siting power plants and their locations |\n",
    "| ***Water Management (WM)*** model | A spatially distributed macro scale water management model to evaluate the impact of water management at continental to global scale, seasonal to inter-annual scale | WM receives subregional water demand from GCAM |\n",
    "| ***Capacity Expansion Regional Feasibility (CERF)*** model | A geospatial model for assessing and analyzing future energy technology expansion feasibility | Takes power sector expansion plans and technology-specific assumptions from GCAM and available water estimates from WM.  Outputs power plant locations, and other metrics |"
   ]
  },
  {
   "cell_type": "markdown",
   "metadata": {},
   "source": [
    "## Scenario 1:   GCAM-WM-CERF; One-way, loose coupling, run all timesteps with no failure before passing data"
   ]
  },
  {
   "cell_type": "markdown",
   "metadata": {},
   "source": [
    "In this scenario, GCAM will run until it solves successfully, WM will take GCAM's output and run until it solves successfully, and CERF will take output from GCAM and WM and solve successfully.  In this case, each model runs all time steps and completes before the next model executes."
   ]
  },
  {
   "cell_type": "code",
   "execution_count": 1,
   "metadata": {},
   "outputs": [
    {
     "name": "stdout",
     "output_type": "stream",
     "text": [
      "2018-07-02 16:55:24,218 - proxymod_logger_gcam - INFO - Starting gcam\n",
      "2018-07-02 16:55:24,219 - proxymod_logger_gcam - INFO - CONFIG: [PARAMETER] in_dir -- [VALUE] /Users/d3y010/repos/github/proxymod/example/inputs\n",
      "2018-07-02 16:55:24,220 - proxymod_logger_gcam - INFO - CONFIG: [PARAMETER] in_file_one -- [VALUE] /Users/d3y010/repos/github/proxymod/example/inputs/in_file_one.csv\n",
      "2018-07-02 16:55:24,221 - proxymod_logger_gcam - INFO - CONFIG: [PARAMETER] in_file_two -- [VALUE] /Users/d3y010/repos/github/proxymod/example/inputs/in_file_two.csv\n",
      "2018-07-02 16:55:24,221 - proxymod_logger_gcam - INFO - CONFIG: [PARAMETER] model_name -- [VALUE] gcam\n",
      "2018-07-02 16:55:24,222 - proxymod_logger_gcam - INFO - CONFIG: [PARAMETER] out_dir -- [VALUE] /Users/d3y010/repos/github/proxymod/example/outputs/gcam_outputs\n",
      "2018-07-02 16:55:26,235 - proxymod_logger_gcam - INFO - Completed gcam\n",
      "2018-07-02 16:55:26,237 - proxymod_logger_wm - INFO - Starting wm\n",
      "2018-07-02 16:55:26,238 - proxymod_logger_wm - INFO - CONFIG: [PARAMETER] in_file_one -- [VALUE] /Users/d3y010/repos/github/proxymod/example/outputs/gcam_outputs/output1_gcam_2010_2100.csv\n",
      "2018-07-02 16:55:26,239 - proxymod_logger_wm - INFO - CONFIG: [PARAMETER] in_file_two -- [VALUE] /Users/d3y010/repos/github/proxymod/example/outputs/gcam_outputs/output2_gcam_2010_2100.csv\n",
      "2018-07-02 16:55:26,240 - proxymod_logger_wm - INFO - CONFIG: [PARAMETER] model_name -- [VALUE] wm\n",
      "2018-07-02 16:55:26,240 - proxymod_logger_wm - INFO - CONFIG: [PARAMETER] out_dir -- [VALUE] /Users/d3y010/repos/github/proxymod/example/outputs/wm_outputs\n",
      "2018-07-02 16:55:28,246 - proxymod_logger_wm - INFO - Completed wm\n",
      "2018-07-02 16:55:28,248 - proxymod_logger_cerf - INFO - Starting cerf\n",
      "2018-07-02 16:55:28,249 - proxymod_logger_cerf - INFO - CONFIG: [PARAMETER] in_file_one -- [VALUE] /Users/d3y010/repos/github/proxymod/example/outputs/gcam_outputs/output1_gcam_2010_2100.csv\n",
      "2018-07-02 16:55:28,249 - proxymod_logger_cerf - INFO - CONFIG: [PARAMETER] in_file_two -- [VALUE] /Users/d3y010/repos/github/proxymod/example/outputs/wm_outputs/output2_wm_2010_2100.csv\n",
      "2018-07-02 16:55:28,250 - proxymod_logger_cerf - INFO - CONFIG: [PARAMETER] model_name -- [VALUE] cerf\n",
      "2018-07-02 16:55:28,251 - proxymod_logger_cerf - INFO - CONFIG: [PARAMETER] out_dir -- [VALUE] /Users/d3y010/repos/github/proxymod/example/outputs/cerf_outputs\n",
      "2018-07-02 16:55:33,252 - proxymod_logger_cerf - INFO - Completed cerf\n"
     ]
    }
   ],
   "source": [
    "from proxymod.model import Prox\n",
    "\n",
    "\n",
    "def scenario_1(config_1, config_2, config_3):\n",
    "    \"\"\"\n",
    "    In this scenario, GCAM will run until it solves successfully, WM will take GCAM's \n",
    "    output and run until it solves successfully, and CERF will take output from GCAM \n",
    "    and WM and solve successfully. In this case, each model runs all time steps and \n",
    "    completes before the next model executes.\n",
    "    \"\"\"\n",
    "\n",
    "    # build proxy GCAM\n",
    "    gcam = Prox(config=config_1,\n",
    "                   model_name='gcam',\n",
    "                   start_yr=2010,\n",
    "                   end_yr=2100,\n",
    "                   step=5)\n",
    "    # run gcam\n",
    "    gcam.advance()\n",
    "    \n",
    "    # cleanup log objects\n",
    "    gcam.close()\n",
    "\n",
    "    # build proxy WM model\n",
    "    wm = Prox( config=config_2,\n",
    "                    model_name='wm',\n",
    "                    start_yr=2010,\n",
    "                    end_yr=2100,\n",
    "                    step=5,\n",
    "                    in_one=gcam.out_file_1,\n",
    "                    in_two=gcam.out_file_2)\n",
    "\n",
    "    wm.advance()\n",
    "    wm.close()\n",
    "\n",
    "    # build proxy CERF model\n",
    "    cerf = Prox( config=config_3,\n",
    "                    model_name='cerf',\n",
    "                    start_yr=2010,\n",
    "                    end_yr=2100,\n",
    "                    step=5,\n",
    "                    in_one=gcam.out_file_1,\n",
    "                    in_two=wm.out_file_2)\n",
    "\n",
    "    cerf.advance()\n",
    "    cerf.close()\n",
    "\n",
    "\n",
    "# create the path references to your config files\n",
    "gcam_sc1 = '/Users/d3y010/repos/github/proxymod/example/config_1.ini'\n",
    "wm_sc1 = '/Users/d3y010/repos/github/proxymod/example/config_2.ini'\n",
    "cerf_sc1 = '/Users/d3y010/repos/github/proxymod/example/config_3.ini'\n",
    "\n",
    "# run it\n",
    "scenario_1(gcam_sc1, wm_sc1, cerf_sc1)"
   ]
  },
  {
   "cell_type": "code",
   "execution_count": null,
   "metadata": {},
   "outputs": [],
   "source": []
  }
 ],
 "metadata": {
  "kernelspec": {
   "display_name": "Python 3",
   "language": "python",
   "name": "python3"
  },
  "language_info": {
   "codemirror_mode": {
    "name": "ipython",
    "version": 3
   },
   "file_extension": ".py",
   "mimetype": "text/x-python",
   "name": "python",
   "nbconvert_exporter": "python",
   "pygments_lexer": "ipython3",
   "version": "3.6.5"
  }
 },
 "nbformat": 4,
 "nbformat_minor": 2
}
