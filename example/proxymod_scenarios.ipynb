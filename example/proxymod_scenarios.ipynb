{
 "cells": [
  {
   "cell_type": "markdown",
   "metadata": {},
   "source": [
    "# proxymod - scenarios"
   ]
  },
  {
   "cell_type": "markdown",
   "metadata": {},
   "source": [
    "## Summary\n",
    "This notebook is meant to describe potential model coupling scenarios that a user may need to test whether or not the functionality of a proposed messaging service can accomodate project needs.  We will use three real model names to represent their potentail functionality and place these experiments in context of what may actually be tested."
   ]
  },
  {
   "cell_type": "markdown",
   "metadata": {},
   "source": [
    "The following are the models proxymod will pretend to be:\n",
    "\n",
    "| Model | Brief Description | How the model interacts with others |\n",
    "| --- | --- | --- |\n",
    "| ***Global Change Assessment Model (GCAM)*** | An integrated human-Earth systems model that provides multi-sector outputs that can be extracted from a single file | GCAM can receive feedback from CERF based on the feasiblity of siting power plants and their locations |\n",
    "| ***Water Management (WM)*** model | A spatially distributed macro scale water management model to evaluate the impact of water management at continental to global scale, seasonal to inter-annual scale | WM receives subregional water demand from GCAM |\n",
    "| ***Capacity Expansion Regional Feasibility (CERF)*** model | A geospatial model for assessing and analyzing future energy technology expansion feasibility | Takes power sector expansion plans and technology-specific assumptions from GCAM and available water estimates from WM.  Outputs power plant locations, and other metrics |"
   ]
  },
  {
   "cell_type": "markdown",
   "metadata": {},
   "source": [
    "## Scenario 1:   GCAM-WM-CERF; One-way, loose coupling, run all timesteps with no failure before passing data"
   ]
  },
  {
   "cell_type": "markdown",
   "metadata": {},
   "source": [
    "In this scenario, GCAM will run until it solves successfully, WM will take GCAM's output and run until it solves successfully, and CERF will take output from GCAM and WM and solve successfully.  In this case, each model runs all time steps and completes before the next model executes."
   ]
  },
  {
   "cell_type": "code",
   "execution_count": 1,
   "metadata": {},
   "outputs": [
    {
     "name": "stdout",
     "output_type": "stream",
     "text": [
      "2018-07-04 08:52:56,459 - proxymod_logger_gcam - INFO - Starting gcam\n",
      "2018-07-04 08:52:56,460 - proxymod_logger_gcam - INFO - CONFIG: [PARAMETER] in_dir -- [VALUE] /Users/d3y010/repos/github/proxymod/example/inputs\n",
      "2018-07-04 08:52:56,463 - proxymod_logger_gcam - INFO - CONFIG: [PARAMETER] in_file_one -- [VALUE] /Users/d3y010/repos/github/proxymod/example/inputs/in_file_one.csv\n",
      "2018-07-04 08:52:56,464 - proxymod_logger_gcam - INFO - CONFIG: [PARAMETER] in_file_two -- [VALUE] /Users/d3y010/repos/github/proxymod/example/inputs/in_file_two.csv\n",
      "2018-07-04 08:52:56,468 - proxymod_logger_gcam - INFO - CONFIG: [PARAMETER] model_name -- [VALUE] gcam\n",
      "2018-07-04 08:52:56,470 - proxymod_logger_gcam - INFO - CONFIG: [PARAMETER] out_dir -- [VALUE] /Users/d3y010/repos/github/proxymod/example/outputs/gcam_outputs\n",
      "2018-07-04 08:52:58,476 - proxymod_logger_gcam - INFO - Completed gcam\n",
      "2018-07-04 08:52:58,482 - proxymod_logger_wm - INFO - Starting wm\n",
      "2018-07-04 08:52:58,485 - proxymod_logger_wm - INFO - CONFIG: [PARAMETER] in_dir -- [VALUE] /Users/d3y010/repos/github/proxymod/example/inputs\n",
      "2018-07-04 08:52:58,488 - proxymod_logger_wm - INFO - CONFIG: [PARAMETER] in_file_one -- [VALUE] /Users/d3y010/repos/github/proxymod/example/outputs/gcam_outputs/output1_gcam_2010_2100.csv\n",
      "2018-07-04 08:52:58,489 - proxymod_logger_wm - INFO - CONFIG: [PARAMETER] in_file_two -- [VALUE] /Users/d3y010/repos/github/proxymod/example/outputs/gcam_outputs/output2_gcam_2010_2100.csv\n",
      "2018-07-04 08:52:58,490 - proxymod_logger_wm - INFO - CONFIG: [PARAMETER] model_name -- [VALUE] wm\n",
      "2018-07-04 08:52:58,492 - proxymod_logger_wm - INFO - CONFIG: [PARAMETER] out_dir -- [VALUE] /Users/d3y010/repos/github/proxymod/example/outputs/wm_outputs\n",
      "2018-07-04 08:53:00,503 - proxymod_logger_wm - INFO - Completed wm\n",
      "2018-07-04 08:53:00,510 - proxymod_logger_cerf - INFO - Starting cerf\n",
      "2018-07-04 08:53:00,514 - proxymod_logger_cerf - INFO - CONFIG: [PARAMETER] in_dir -- [VALUE] /Users/d3y010/repos/github/proxymod/example/inputs\n",
      "2018-07-04 08:53:00,517 - proxymod_logger_cerf - INFO - CONFIG: [PARAMETER] in_file_one -- [VALUE] /Users/d3y010/repos/github/proxymod/example/outputs/gcam_outputs/output1_gcam_2010_2100.csv\n",
      "2018-07-04 08:53:00,520 - proxymod_logger_cerf - INFO - CONFIG: [PARAMETER] in_file_two -- [VALUE] /Users/d3y010/repos/github/proxymod/example/outputs/wm_outputs/output2_wm_2010_2100.csv\n",
      "2018-07-04 08:53:00,522 - proxymod_logger_cerf - INFO - CONFIG: [PARAMETER] model_name -- [VALUE] cerf\n",
      "2018-07-04 08:53:00,525 - proxymod_logger_cerf - INFO - CONFIG: [PARAMETER] out_dir -- [VALUE] /Users/d3y010/repos/github/proxymod/example/outputs/cerf_outputs\n",
      "2018-07-04 08:53:02,542 - proxymod_logger_cerf - INFO - Completed cerf\n"
     ]
    }
   ],
   "source": [
    "from proxymod import Prox\n",
    "\n",
    "\n",
    "def scenario_1(config_1, config_2, config_3):\n",
    "    \"\"\"\n",
    "    In this scenario, GCAM will run until it solves successfully, WM will take GCAM's \n",
    "    output and run until it solves successfully, and CERF will take output from GCAM \n",
    "    and WM and solve successfully. In this case, each model runs all time steps and \n",
    "    completes before the next model executes.\n",
    "    \"\"\"\n",
    "\n",
    "    # build proxy GCAM\n",
    "    gcam = Prox(config=config_1,\n",
    "                   model_name='gcam',\n",
    "                   start_yr=2010,\n",
    "                   end_yr=2100,\n",
    "                   step=5)\n",
    "    # run gcam\n",
    "    gcam.advance()\n",
    "    \n",
    "    # cleanup log objects\n",
    "    gcam.close()\n",
    "\n",
    "    # build proxy WM model\n",
    "    wm = Prox( config=config_2,\n",
    "                    model_name='wm',\n",
    "                    start_yr=2010,\n",
    "                    end_yr=2100,\n",
    "                    step=5,\n",
    "                    in_one=gcam.out_file_1,\n",
    "                    in_two=gcam.out_file_2)\n",
    "\n",
    "    wm.advance()\n",
    "    wm.close()\n",
    "\n",
    "    # build proxy CERF model\n",
    "    cerf = Prox( config=config_3,\n",
    "                    model_name='cerf',\n",
    "                    start_yr=2010,\n",
    "                    end_yr=2100,\n",
    "                    step=5,\n",
    "                    in_one=gcam.out_file_1,\n",
    "                    in_two=wm.out_file_2)\n",
    "\n",
    "    cerf.advance()\n",
    "    cerf.close()\n",
    "\n",
    "\n",
    "# create the path references to your config files\n",
    "gcam_sc1 = '/Users/d3y010/repos/github/proxymod/example/gcam_sc1.ini'\n",
    "wm_sc1 = '/Users/d3y010/repos/github/proxymod/example/wm_sc1.ini'\n",
    "cerf_sc1 = '/Users/d3y010/repos/github/proxymod/example/cerf_sc1.ini'\n",
    "\n",
    "# run it\n",
    "scenario_1(gcam_sc1, wm_sc1, cerf_sc1)"
   ]
  },
  {
   "cell_type": "markdown",
   "metadata": {},
   "source": [
    "## Scenario 2:   GCAM-WM-CERF; One-way, loose coupling, run all timesteps with WM model failure\n"
   ]
  },
  {
   "cell_type": "markdown",
   "metadata": {},
   "source": [
    "In this scenario, GCAM will run until it solves successfully, WM will take GCAM's output and run but will fail, and CERF is waiting on the data from WM but will not be executed.  In this case, each model runs all time steps and completes before the next model executes."
   ]
  },
  {
   "cell_type": "code",
   "execution_count": 4,
   "metadata": {},
   "outputs": [
    {
     "name": "stdout",
     "output_type": "stream",
     "text": [
      "2018-07-04 08:55:08,672 - proxymod_logger_gcam - INFO - Starting gcam\n",
      "2018-07-04 08:55:08,674 - proxymod_logger_gcam - INFO - CONFIG: [PARAMETER] in_dir -- [VALUE] /Users/d3y010/repos/github/proxymod/example/inputs\n",
      "2018-07-04 08:55:08,676 - proxymod_logger_gcam - INFO - CONFIG: [PARAMETER] in_file_one -- [VALUE] /Users/d3y010/repos/github/proxymod/example/inputs/in_file_one.csv\n",
      "2018-07-04 08:55:08,677 - proxymod_logger_gcam - INFO - CONFIG: [PARAMETER] in_file_two -- [VALUE] /Users/d3y010/repos/github/proxymod/example/inputs/in_file_two.csv\n",
      "2018-07-04 08:55:08,684 - proxymod_logger_gcam - INFO - CONFIG: [PARAMETER] model_name -- [VALUE] gcam\n",
      "2018-07-04 08:55:08,687 - proxymod_logger_gcam - INFO - CONFIG: [PARAMETER] out_dir -- [VALUE] /Users/d3y010/repos/github/proxymod/example/outputs/gcam_outputs\n",
      "2018-07-04 08:55:10,694 - proxymod_logger_gcam - INFO - Completed gcam\n",
      "2018-07-04 08:55:10,699 - proxymod_logger_wm - INFO - Starting wm\n",
      "2018-07-04 08:55:10,701 - proxymod_logger_wm - INFO - CONFIG: [PARAMETER] in_dir -- [VALUE] /Users/d3y010/repos/github/proxymod/example/inputs\n",
      "2018-07-04 08:55:10,703 - proxymod_logger_wm - INFO - CONFIG: [PARAMETER] in_file_one -- [VALUE] /Users/d3y010/repos/github/proxymod/example/outputs/gcam_outputs/output1_gcam_2010_2100.csv\n",
      "2018-07-04 08:55:10,704 - proxymod_logger_wm - INFO - CONFIG: [PARAMETER] in_file_two -- [VALUE] /Users/d3y010/repos/github/proxymod/example/outputs/gcam_outputs/output2_gcam_2010_2100.csv\n",
      "2018-07-04 08:55:10,705 - proxymod_logger_wm - INFO - CONFIG: [PARAMETER] model_name -- [VALUE] wm\n",
      "2018-07-04 08:55:10,706 - proxymod_logger_wm - INFO - CONFIG: [PARAMETER] out_dir -- [VALUE] /Users/d3y010/repos/github/proxymod/example/outputs/wm_outputs\n",
      "2018-07-04 08:55:17,713 - proxymod_logger_wm - ERROR - You raised an error on purpose.\n",
      "2018-07-04 08:55:17,715 - proxymod_logger_wm - INFO - Completed wm\n"
     ]
    },
    {
     "ename": "RuntimeError",
     "evalue": "You raised an error on purpose.",
     "output_type": "error",
     "traceback": [
      "\u001b[0;31m---------------------------------------------------------------------------\u001b[0m",
      "\u001b[0;31mRuntimeError\u001b[0m                              Traceback (most recent call last)",
      "\u001b[0;32m<ipython-input-4-0e8c8c74a422>\u001b[0m in \u001b[0;36m<module>\u001b[0;34m()\u001b[0m\n\u001b[1;32m     53\u001b[0m \u001b[0;34m\u001b[0m\u001b[0m\n\u001b[1;32m     54\u001b[0m \u001b[0;31m# run it\u001b[0m\u001b[0;34m\u001b[0m\u001b[0;34m\u001b[0m\u001b[0m\n\u001b[0;32m---> 55\u001b[0;31m \u001b[0mscenario_2\u001b[0m\u001b[0;34m(\u001b[0m\u001b[0mgcam_sc2\u001b[0m\u001b[0;34m,\u001b[0m \u001b[0mwm_sc2\u001b[0m\u001b[0;34m,\u001b[0m \u001b[0mcerf_sc2\u001b[0m\u001b[0;34m)\u001b[0m\u001b[0;34m\u001b[0m\u001b[0m\n\u001b[0m",
      "\u001b[0;32m<ipython-input-4-0e8c8c74a422>\u001b[0m in \u001b[0;36mscenario_2\u001b[0;34m(config_1, config_2, config_3)\u001b[0m\n\u001b[1;32m     29\u001b[0m                     \u001b[0mstep\u001b[0m\u001b[0;34m=\u001b[0m\u001b[0;36m5\u001b[0m\u001b[0;34m,\u001b[0m\u001b[0;34m\u001b[0m\u001b[0m\n\u001b[1;32m     30\u001b[0m                     \u001b[0min_one\u001b[0m\u001b[0;34m=\u001b[0m\u001b[0mgcam\u001b[0m\u001b[0;34m.\u001b[0m\u001b[0mout_file_1\u001b[0m\u001b[0;34m,\u001b[0m\u001b[0;34m\u001b[0m\u001b[0m\n\u001b[0;32m---> 31\u001b[0;31m                     in_two=gcam.out_file_2)\n\u001b[0m\u001b[1;32m     32\u001b[0m \u001b[0;34m\u001b[0m\u001b[0m\n\u001b[1;32m     33\u001b[0m     \u001b[0mwm\u001b[0m\u001b[0;34m.\u001b[0m\u001b[0madvance\u001b[0m\u001b[0;34m(\u001b[0m\u001b[0;34m)\u001b[0m\u001b[0;34m\u001b[0m\u001b[0m\n",
      "\u001b[0;32m~/repos/github/proxymod/proxymod/model.py\u001b[0m in \u001b[0;36m__init__\u001b[0;34m(self, config, model_name, start_yr, end_yr, step, target_yr, in_one, in_two)\u001b[0m\n\u001b[1;32m     80\u001b[0m         \u001b[0mself\u001b[0m\u001b[0;34m.\u001b[0m\u001b[0mlog_config\u001b[0m\u001b[0;34m(\u001b[0m\u001b[0;34m)\u001b[0m\u001b[0;34m\u001b[0m\u001b[0m\n\u001b[1;32m     81\u001b[0m \u001b[0;34m\u001b[0m\u001b[0m\n\u001b[0;32m---> 82\u001b[0;31m         \u001b[0mself\u001b[0m\u001b[0;34m.\u001b[0m\u001b[0mprepare\u001b[0m\u001b[0;34m(\u001b[0m\u001b[0;34m)\u001b[0m\u001b[0;34m\u001b[0m\u001b[0m\n\u001b[0m\u001b[1;32m     83\u001b[0m \u001b[0;34m\u001b[0m\u001b[0m\n\u001b[1;32m     84\u001b[0m         \u001b[0mself\u001b[0m\u001b[0;34m.\u001b[0m\u001b[0midx\u001b[0m \u001b[0;34m=\u001b[0m \u001b[0;36m0\u001b[0m\u001b[0;34m\u001b[0m\u001b[0m\n",
      "\u001b[0;32m~/repos/github/proxymod/proxymod/model.py\u001b[0m in \u001b[0;36mprepare\u001b[0;34m(self)\u001b[0m\n\u001b[1;32m     98\u001b[0m             \u001b[0mself\u001b[0m\u001b[0;34m.\u001b[0m\u001b[0mclose\u001b[0m\u001b[0;34m(\u001b[0m\u001b[0;34m)\u001b[0m\u001b[0;34m\u001b[0m\u001b[0m\n\u001b[1;32m     99\u001b[0m \u001b[0;34m\u001b[0m\u001b[0m\n\u001b[0;32m--> 100\u001b[0;31m             \u001b[0;32mraise\u001b[0m \u001b[0;34m(\u001b[0m\u001b[0mRuntimeError\u001b[0m\u001b[0;34m(\u001b[0m\u001b[0mmsg\u001b[0m\u001b[0;34m)\u001b[0m\u001b[0;34m)\u001b[0m\u001b[0;34m\u001b[0m\u001b[0m\n\u001b[0m\u001b[1;32m    101\u001b[0m \u001b[0;34m\u001b[0m\u001b[0m\n\u001b[1;32m    102\u001b[0m         \u001b[0;31m# read and modify input data\u001b[0m\u001b[0;34m\u001b[0m\u001b[0;34m\u001b[0m\u001b[0m\n",
      "\u001b[0;31mRuntimeError\u001b[0m: You raised an error on purpose."
     ]
    }
   ],
   "source": [
    "from proxymod import Prox\n",
    "\n",
    "\n",
    "def scenario_2(config_1, config_2, config_3):\n",
    "    \"\"\"\n",
    "    In this scenario, GCAM will run until it solves successfully, WM will take GCAM's \n",
    "    output and run but will fail, and CERF is waiting on the data from WM but will \n",
    "    not be executed.  In this case, each model runs all time steps and completes before \n",
    "    the next model executes.\n",
    "    \"\"\"\n",
    "\n",
    "    # build proxy GCAM\n",
    "    gcam = Prox(config=config_1,\n",
    "                   model_name='gcam',\n",
    "                   start_yr=2010,\n",
    "                   end_yr=2100,\n",
    "                   step=5)\n",
    "    # run gcam\n",
    "    gcam.advance()\n",
    "    \n",
    "    # cleanup log objects\n",
    "    gcam.close()\n",
    "\n",
    "    # build proxy WM model\n",
    "    wm = Prox( config=config_2,\n",
    "                    model_name='wm',\n",
    "                    start_yr=2010,\n",
    "                    end_yr=2100,\n",
    "                    step=5,\n",
    "                    in_one=gcam.out_file_1,\n",
    "                    in_two=gcam.out_file_2)\n",
    "\n",
    "    wm.advance()\n",
    "    wm.close()\n",
    "\n",
    "    # build proxy CERF model\n",
    "    cerf = Prox( config=config_3,\n",
    "                    model_name='cerf',\n",
    "                    start_yr=2010,\n",
    "                    end_yr=2100,\n",
    "                    step=5,\n",
    "                    in_one=gcam.out_file_1,\n",
    "                    in_two=wm.out_file_2)\n",
    "\n",
    "    cerf.advance()\n",
    "    cerf.close()\n",
    "\n",
    "\n",
    "# create the path references to your config files\n",
    "gcam_sc2 = '/Users/d3y010/repos/github/proxymod/example/gcam_sc2.ini'\n",
    "wm_sc2 = '/Users/d3y010/repos/github/proxymod/example/wm_sc2.ini'\n",
    "cerf_sc2 = '/Users/d3y010/repos/github/proxymod/example/cerf_sc2.ini'\n",
    "\n",
    "# run it\n",
    "scenario_2(gcam_sc2, wm_sc2, cerf_sc2)"
   ]
  },
  {
   "cell_type": "code",
   "execution_count": null,
   "metadata": {},
   "outputs": [],
   "source": []
  }
 ],
 "metadata": {
  "kernelspec": {
   "display_name": "Python 3",
   "language": "python",
   "name": "python3"
  },
  "language_info": {
   "codemirror_mode": {
    "name": "ipython",
    "version": 3
   },
   "file_extension": ".py",
   "mimetype": "text/x-python",
   "name": "python",
   "nbconvert_exporter": "python",
   "pygments_lexer": "ipython3",
   "version": "3.6.5"
  }
 },
 "nbformat": 4,
 "nbformat_minor": 2
}
