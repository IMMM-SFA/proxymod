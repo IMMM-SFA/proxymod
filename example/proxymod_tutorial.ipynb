{
 "cells": [
  {
   "cell_type": "markdown",
   "metadata": {},
   "source": [
    "# proxymod"
   ]
  },
  {
   "cell_type": "markdown",
   "metadata": {},
   "source": [
    "## *A lightweight Python package to simulate model interactions*"
   ]
  },
  {
   "cell_type": "markdown",
   "metadata": {},
   "source": [
    "## Description"
   ]
  },
  {
   "cell_type": "markdown",
   "metadata": {},
   "source": [
    "**proxymod** enables modelers to explore multiple types of model interactations without bearing the large overhead of getting up-to-speed on learning to run multiple complex models. This package also expedites the testing of various interactions by eliminating the runtime associated with complex models by using proxy models to emulate their characteristics but run for a user-defined amount of time.  \n",
    "\n",
    "**proxymod** instances can be configured with a configuration file, two input CSV files, two output CSV files, the ability to introduce an error during runtime, a defined runtime, and the ability to inherit and return Python objects.  These options give the user freedom to quickly test multiple types of model interactions for as many model instances as they wish.\n",
    "\n",
    "The following are some potential use-cases of **proxymod**:\n",
    "- testing messaging services\n",
    "- setting up a modeling framework for multi-model interaction\n",
    "- testing HPC environments with multiple model setups"
   ]
  },
  {
   "cell_type": "markdown",
   "metadata": {},
   "source": [
    "## Terminology"
   ]
  },
  {
   "cell_type": "markdown",
   "metadata": {},
   "source": [
    "There are many different definitions for types of model coupling. **proxymod** adopts the Kraucunas (2018) nomenclature where each coupling type fits into the following two categories:  *Coupling* is defined as two or more model components exchanging information and *Forcing or boundary conditions* which are defined as the process where outputs from one model are used to drive another. These are described as the following: \n",
    "\n",
    "| Type | Term | Definition |\n",
    "| --- | ---| --- |\n",
    "| Coupling | Full coupling | All resolved variables in both models are fully reconciled or integrated |\n",
    "| Coupling | Tight coupling | Models and/or components exchange information at every time step |\n",
    "| Coupling | Hard coupling | There is a high degree of sofware integration (e.g., flux coupler) |\n",
    "| Forcing | Partial coupling | Some, but not all, variables are reconciled or integrated |\n",
    "| Forcing | Loose coupling | Models and/or components exchange information less frequently |\n",
    "| Forcing | Soft coupling | Low, or no, software integration (e.g., sneaker-net)"
   ]
  },
  {
   "cell_type": "markdown",
   "metadata": {},
   "source": [
    "## Setup"
   ]
  },
  {
   "cell_type": "markdown",
   "metadata": {},
   "source": [
    "1. Clone **proxymod** by running the following command in your terminal:  `git clone https://github.com/IMMM-SFA/proxymod`\n",
    "2. Setup your configuration.ini files and prepare an arrangement of **proxymod** instances that suits your needs\n",
    "3. Run it!"
   ]
  },
  {
   "cell_type": "markdown",
   "metadata": {},
   "source": [
    "## Full coupling - file transfer"
   ]
  },
  {
   "cell_type": "code",
   "execution_count": 2,
   "metadata": {},
   "outputs": [
    {
     "ename": "SyntaxError",
     "evalue": "unexpected EOF while parsing (<ipython-input-2-bf07dafcbf39>, line 4)",
     "output_type": "error",
     "traceback": [
      "\u001b[0;36m  File \u001b[0;32m\"<ipython-input-2-bf07dafcbf39>\"\u001b[0;36m, line \u001b[0;32m4\u001b[0m\n\u001b[0;31m    \u001b[0m\n\u001b[0m    ^\u001b[0m\n\u001b[0;31mSyntaxError\u001b[0m\u001b[0;31m:\u001b[0m unexpected EOF while parsing\n"
     ]
    }
   ],
   "source": [
    "from proxymod.model import Prox\n",
    "\n",
    "def file_transfer(config_1, config_2, config_3):\n",
    "    \"\"\"\n",
    "    This function creates three instances of proxymod models. A configuration.ini\n",
    "    file has been prepared for each.  This test utilizes the built in CSV files as \n",
    "    data and transfers them to the next model in the configuration.  \n",
    "    \"\"\"\n",
    "    \n",
    "    # instantiate first model\n",
    "    model_1 = Prox( config=config_1,\n",
    "                    model_name = 'model_1',\n",
    "                    start_yr = 2010,\n",
    "                    end_yr = 2100,\n",
    "                    step = 5)\n",
    "    \n",
    "    # instantiate second model\n",
    "    model_1 = Prox( config=config_2,\n",
    "                    model_name = 'model_2',\n",
    "                    start_yr = 2010,\n",
    "                    end_yr = 2100,\n",
    "                    step = 5)\n",
    "    \n",
    "    # instantiate third model\n",
    "    model_1 = Prox( config=config_3,\n",
    "                    model_name = 'model_3',\n",
    "                    start_yr = 2010,\n",
    "                    end_yr = 2100,\n",
    "                    step = 5)\n",
    "    \n",
    "    \n",
    "if __name__ == '__main__':\n",
    "    \n",
    "    # create the path references to your config files\n",
    "    config_1 = '/ft_config_1.ini'\n",
    "    config_2 = '/ft_config_2.ini'\n",
    "    config_3 = '/ft_config_3.ini'\n",
    "    \n",
    "    # run it\n",
    "    file_transfer(config_1, config_2, config_3)"
   ]
  },
  {
   "cell_type": "code",
   "execution_count": null,
   "metadata": {},
   "outputs": [],
   "source": []
  },
  {
   "cell_type": "code",
   "execution_count": null,
   "metadata": {},
   "outputs": [],
   "source": []
  }
 ],
 "metadata": {
  "kernelspec": {
   "display_name": "Python 3",
   "language": "python",
   "name": "python3"
  },
  "language_info": {
   "codemirror_mode": {
    "name": "ipython",
    "version": 3
   },
   "file_extension": ".py",
   "mimetype": "text/x-python",
   "name": "python",
   "nbconvert_exporter": "python",
   "pygments_lexer": "ipython3",
   "version": "3.6.5"
  }
 },
 "nbformat": 4,
 "nbformat_minor": 2
}
